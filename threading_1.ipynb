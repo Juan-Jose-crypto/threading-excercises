{
 "cells": [
  {
   "cell_type": "code",
   "execution_count": 13,
   "metadata": {},
   "outputs": [],
   "source": [
    "import ccxt\n",
    "import time\n",
    "import threading"
   ]
  },
  {
   "cell_type": "markdown",
   "metadata": {},
   "source": [
    "## Threading Exercises\n",
    "\n",
    "1. \n",
    "2. \n",
    "3. \n",
    "4. Write a Python program to calculate the factorial of a number using multiple threads.\n",
    "5. Write a Python program to implement a multi-threaded merge sort algorithm.\n",
    "6. Write a Python program to implement a multi-threaded quicksort algorithm.\n",
    "7. Write a Python program that performs concurrent HTTP requests using threads.\n"
   ]
  },
  {
   "cell_type": "code",
   "execution_count": 11,
   "metadata": {},
   "outputs": [],
   "source": [
    "# Excercise number 1: Write a Python program to create multiple threads and print their names.\n",
    "\n",
    "def thread_name(threading_number: int) -> None:\n",
    "    print(f'Threading_{threading_number}')"
   ]
  },
  {
   "cell_type": "code",
   "execution_count": 12,
   "metadata": {},
   "outputs": [
    {
     "name": "stdout",
     "output_type": "stream",
     "text": [
      "Threading_0\n",
      "Threading_1\n",
      "Threading_2\n",
      "Threading_3\n",
      "Threading_4\n",
      "Threading_5\n",
      "Threading_6\n",
      "Threading_7\n",
      "Threading_8\n",
      "Threading_9\n"
     ]
    }
   ],
   "source": [
    "number_threads = 10\n",
    "threads = []\n",
    "\n",
    "for i in range(number_threads):\n",
    "    t = threading.Thread(target = thread_name, args = (i,))\n",
    "    threads.append(t)\n",
    "    t.start()\n",
    "\n",
    "for t in threads:\n",
    "    t.join()"
   ]
  },
  {
   "cell_type": "code",
   "execution_count": 18,
   "metadata": {},
   "outputs": [],
   "source": [
    "# Excercise number 2: Write a Python program to download multiple files concurrently using threads.\n",
    "\n",
    "def download_file(thread_name: int = None) -> None:\n",
    "    print(f\"Downloading file from URL_{thread_name}\")\n",
    "    time.sleep(10)\n",
    "    print(f'Download finish by thread_{thread_name}!')"
   ]
  },
  {
   "cell_type": "code",
   "execution_count": 19,
   "metadata": {},
   "outputs": [
    {
     "name": "stdout",
     "output_type": "stream",
     "text": [
      "Downloading file from URL_0\n",
      "Downloading file from URL_1\n",
      "Downloading file from URL_2\n",
      "Downloading file from URL_3\n",
      "Downloading file from URL_4\n",
      "Downloading file from URL_5\n",
      "Downloading file from URL_6\n",
      "Downloading file from URL_7\n",
      "Downloading file from URL_8\n",
      "Downloading file from URL_9\n",
      "Download finish by thread_0!Download finish by thread_1!\n",
      "\n",
      "Download finish by thread_4!\n",
      "Download finish by thread_3!\n",
      "Download finish by thread_2!\n",
      "Download finish by thread_6!\n",
      "Download finish by thread_5!\n",
      "Download finish by thread_7!\n",
      "Download finish by thread_8!\n",
      "Download finish by thread_9!\n"
     ]
    }
   ],
   "source": [
    "threads = []\n",
    "number_connections = 10\n",
    "\n",
    "for i in range(number_connections):\n",
    "    t = threading.Thread(target = download_file, args = (i,))\n",
    "    threads.append(t)\n",
    "    t.start()\n",
    "\n",
    "for t in threads:\n",
    "    t.join()"
   ]
  },
  {
   "cell_type": "code",
   "execution_count": 21,
   "metadata": {},
   "outputs": [
    {
     "name": "stdout",
     "output_type": "stream",
     "text": [
      "[30, 31, 32, 33, 34, 35, 36, 37, 38, 39, 40, 41, 42, 43, 44, 45, 46, 47, 48, 49, 50]\n"
     ]
    }
   ],
   "source": [
    "# Excercises number 3: Write a Python program that creates two threads to find and print even and odd numbers from 30 to 50.\n",
    "\n",
    "numbers = [number for number in range(30, 50 + 1)]\n",
    "print(numbers)"
   ]
  },
  {
   "cell_type": "code",
   "execution_count": 22,
   "metadata": {},
   "outputs": [],
   "source": [
    "odd_list = []\n",
    "even_list = []\n",
    "\n",
    "def get_filter(number: int):\n",
    "    global odd_list\n",
    "    global even_list\n",
    "\n",
    "    if number%2 == 0:\n",
    "        even_list.append(number)\n",
    "    else:\n",
    "        odd_list.append(number)"
   ]
  },
  {
   "cell_type": "code",
   "execution_count": 23,
   "metadata": {},
   "outputs": [],
   "source": [
    "threads = []\n",
    "\n",
    "for number in numbers:\n",
    "    t = threading.Thread(target = get_filter, args = (number,))\n",
    "    threads.append(t)\n",
    "    t.start()\n",
    "\n",
    "for t in threads:\n",
    "    t.join()"
   ]
  },
  {
   "cell_type": "code",
   "execution_count": 25,
   "metadata": {},
   "outputs": [
    {
     "name": "stdout",
     "output_type": "stream",
     "text": [
      "Odd list: [31, 33, 35, 37, 39, 41, 43, 45, 47, 49]\n",
      "Even list: [30, 32, 34, 36, 38, 40, 42, 44, 46, 48, 50]\n"
     ]
    }
   ],
   "source": [
    "print(f'Odd list: {odd_list}')\n",
    "print(f'Even list: {even_list}')"
   ]
  },
  {
   "cell_type": "code",
   "execution_count": null,
   "metadata": {},
   "outputs": [],
   "source": []
  }
 ],
 "metadata": {
  "kernelspec": {
   "display_name": "Python 3",
   "language": "python",
   "name": "python3"
  },
  "language_info": {
   "codemirror_mode": {
    "name": "ipython",
    "version": 3
   },
   "file_extension": ".py",
   "mimetype": "text/x-python",
   "name": "python",
   "nbconvert_exporter": "python",
   "pygments_lexer": "ipython3",
   "version": "3.11.4"
  }
 },
 "nbformat": 4,
 "nbformat_minor": 2
}
